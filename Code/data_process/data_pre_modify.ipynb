{
 "cells": [
  {
   "cell_type": "code",
   "execution_count": 1,
   "metadata": {},
   "outputs": [],
   "source": [
    "import pandas as pd\n",
    "import random\n",
    "random.seed(42)"
   ]
  },
  {
   "cell_type": "code",
   "execution_count": 2,
   "metadata": {},
   "outputs": [
    {
     "data": {
      "text/plain": [
       "result\n",
       "neutral     167\n",
       "negative    124\n",
       "positive      4\n",
       "Name: count, dtype: int64"
      ]
     },
     "execution_count": 2,
     "metadata": {},
     "output_type": "execute_result"
    }
   ],
   "source": [
    "df = pd.read_csv(\"data.csv\", engine='python',sep = None)\n",
    "df[\"result\"].value_counts()"
   ]
  },
  {
   "cell_type": "code",
   "execution_count": 4,
   "metadata": {},
   "outputs": [
    {
     "name": "stdout",
     "output_type": "stream",
     "text": [
      "1167\n"
     ]
    }
   ],
   "source": [
    "dataset_data=[]\n",
    "temp1=len(df.Date)\n",
    "for j in range(0,20):\n",
    "    for i in range(0,temp1):\n",
    "        temp2=\"\"\n",
    "        p=random.random()\n",
    "        if df.result[i]==\"negative\":\n",
    "            if p>0.2:\n",
    "                continue\n",
    "        if df.result[i]==\"neutral\":\n",
    "            if p>0.15:\n",
    "                continue\n",
    "        if df.result[i]==\"positive\":\n",
    "            temp2+=\"Result: \"\n",
    "            temp2+=df.result[i]\n",
    "            temp2=\"the price will have a \"\n",
    "            temp2+=df.result[i]\n",
    "            temp2+=\" change\"\n",
    "            dataset_data.append({\"instruction\": \"Detect the influence of news on gold prices.\",\n",
    "        \"input\": df.News[i],\n",
    "        \"output\": temp2})\n",
    "        temp2+=\"Result: \"\n",
    "        temp2+=df.result[i]\n",
    "        temp2=\"the price will have a \"\n",
    "        temp2+=df.result[i]\n",
    "        temp2+=\" change\"\n",
    "        dataset_data.append({\"instruction\": \"Detect the influence of news on gold prices.\",\n",
    "        \"input\": df.News[i],\n",
    "        \"output\": temp2})\n",
    "print(len(dataset_data))"
   ]
  },
  {
   "cell_type": "code",
   "execution_count": 5,
   "metadata": {},
   "outputs": [],
   "source": [
    "import json\n",
    "with open(\"dataset.json\", \"w\") as f:\n",
    "   json.dump(dataset_data, f)"
   ]
  }
 ],
 "metadata": {
  "kernelspec": {
   "display_name": "Python 3",
   "language": "python",
   "name": "python3"
  },
  "language_info": {
   "codemirror_mode": {
    "name": "ipython",
    "version": 3
   },
   "file_extension": ".py",
   "mimetype": "text/x-python",
   "name": "python",
   "nbconvert_exporter": "python",
   "pygments_lexer": "ipython3",
   "version": "3.9.13"
  }
 },
 "nbformat": 4,
 "nbformat_minor": 2
}
